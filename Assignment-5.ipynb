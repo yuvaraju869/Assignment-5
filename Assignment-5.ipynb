{
 "cells": [
  {
   "cell_type": "code",
   "execution_count": null,
   "id": "9fd7a38b",
   "metadata": {},
   "outputs": [],
   "source": [
    " # Challenge 1: Square Numbers and Return Their Sum"
   ]
  },
  {
   "cell_type": "code",
   "execution_count": 5,
   "id": "4af66e73",
   "metadata": {},
   "outputs": [
    {
     "name": "stdout",
     "output_type": "stream",
     "text": [
      "35\n"
     ]
    }
   ],
   "source": [
    "class Point:\n",
    "    def __init__(self, x, y, z):\n",
    "        self.x = x\n",
    "        self.y = y\n",
    "        self.z = z\n",
    "\n",
    "    def sqSum(self):\n",
    "        pass\n",
    "        return self.x ** 2 + self.y ** 2 + self.z ** 2\n",
    "\n",
    "# Create an instance of the Point class\n",
    "p = Point(1, 3, 5)\n",
    "\n",
    "# Calculate and print the squared sum of x, y, and z\n",
    "result = p.sqSum()\n",
    "print(result)  # Output: 35\n"
   ]
  },
  {
   "cell_type": "code",
   "execution_count": null,
   "id": "9cc11ef4",
   "metadata": {},
   "outputs": [],
   "source": [
    " # Challenge 2: Implement a Calculator Class"
   ]
  },
  {
   "cell_type": "code",
   "execution_count": 7,
   "id": "cb4147da",
   "metadata": {},
   "outputs": [
    {
     "name": "stdout",
     "output_type": "stream",
     "text": [
      "104\n",
      "84\n",
      "940\n",
      "9.4\n"
     ]
    }
   ],
   "source": [
    "class Calculator:\n",
    "\n",
    "    def __init__(self, num1, num2):\n",
    "        pass\n",
    "        self.num1 = num1\n",
    "        self.num2 = num2\n",
    "\n",
    "    def add(self):\n",
    "        pass\n",
    "        return self.num1 + self.num2\n",
    "\n",
    "    def subtract(self):\n",
    "        pass\n",
    "        return self.num2 - self.num1\n",
    "\n",
    "    def multiply(self):\n",
    "        pass\n",
    "        return self.num1 * self.num2\n",
    "\n",
    "    def divide(self):\n",
    "        pass\n",
    "        return self.num2 / self.num1\n",
    "\n",
    "# Sample input\n",
    "obj = Calculator(10, 94)\n",
    "\n",
    "# Calculate and print the results\n",
    "print(obj.add())       # Output: 104\n",
    "print(obj.subtract())  # Output: 84\n",
    "print(obj.multiply())  # Output: 940\n",
    "print(obj.divide())    # Output: 9.4\n"
   ]
  },
  {
   "cell_type": "code",
   "execution_count": null,
   "id": "9be8d310",
   "metadata": {},
   "outputs": [],
   "source": [
    "# Challenge 3: Implement the Complete Student Class"
   ]
  },
  {
   "cell_type": "code",
   "execution_count": 9,
   "id": "02ea98e2",
   "metadata": {},
   "outputs": [
    {
     "name": "stdout",
     "output_type": "stream",
     "text": [
      "Name: jayasree\n",
      "Roll Number: 12345\n"
     ]
    }
   ],
   "source": [
    "class Student:\n",
    "\n",
    "    def setName(self, name):\n",
    "        pass\n",
    "        self.__name = name\n",
    "\n",
    "    def getName(self):\n",
    "        pass\n",
    "        return self.__name\n",
    "\n",
    "    def setRollNumber(self, rollNumber):\n",
    "        pass\n",
    "        self.__rollNumber = rollNumber\n",
    "\n",
    "    def getRollNumber(self):\n",
    "        pass\n",
    "        return self.__rollNumber\n",
    "\n",
    "# Testing the Student class\n",
    "student = Student()\n",
    "\n",
    "# Setting and getting the name and rollNumber\n",
    "student.setName(\"jayasree\")\n",
    "student.setRollNumber(12345)\n",
    "\n",
    "print(\"Name:\", student.getName())         # Output: Name: John\n",
    "print(\"Roll Number:\", student.getRollNumber())   # Output: Roll Number: 12345"
   ]
  },
  {
   "cell_type": "code",
   "execution_count": null,
   "id": "2bfff978",
   "metadata": {},
   "outputs": [],
   "source": [
    "# Challenge 4: Implement a Banking Account"
   ]
  },
  {
   "cell_type": "code",
   "execution_count": 10,
   "id": "c41323c6",
   "metadata": {},
   "outputs": [
    {
     "name": "stdout",
     "output_type": "stream",
     "text": [
      "Account Title: Ashish\n",
      "Account Balance: 5000\n",
      "Savings Account Title: Ashish\n",
      "Savings Account Balance: 5000\n",
      "Savings Account Interest Rate: 5\n"
     ]
    }
   ],
   "source": [
    "class Account:\n",
    "\n",
    "    def __init__(self, title, balance):\n",
    "        self.title = title\n",
    "        self.balance = balance\n",
    "        pass\n",
    "\n",
    "class SavingsAccount(Account):\n",
    "\n",
    "    def __init__(self, title, balance, interestRate):\n",
    "        super().__init__(title, balance)\n",
    "        self.interestRate = interestRate\n",
    "        pass\n",
    "\n",
    "# Testing the classes\n",
    "account = Account(\"Ashish\", 5000)\n",
    "savings_account = SavingsAccount(\"Ashish\", 5000, 5)\n",
    "\n",
    "print(\"Account Title:\", account.title)\n",
    "print(\"Account Balance:\", account.balance)\n",
    "\n",
    "print(\"Savings Account Title:\", savings_account.title)\n",
    "print(\"Savings Account Balance:\", savings_account.balance)\n",
    "print(\"Savings Account Interest Rate:\", savings_account.interestRate)\n"
   ]
  },
  {
   "cell_type": "code",
   "execution_count": null,
   "id": "0ddc1be7",
   "metadata": {},
   "outputs": [],
   "source": [
    "# Challenge 5: Handling a Bank Account"
   ]
  },
  {
   "cell_type": "code",
   "execution_count": 11,
   "id": "6ea0e783",
   "metadata": {},
   "outputs": [
    {
     "name": "stdout",
     "output_type": "stream",
     "text": [
      "Balance after deposit: 2500\n",
      "Balance after withdrawal: 2000\n",
      "Interest Amount: 100.0\n"
     ]
    }
   ],
   "source": [
    "class Account:\n",
    "    def __init__(self, title=None, balance=0):\n",
    "        self.title = title\n",
    "        self.balance = balance\n",
    "    \n",
    "    def withdrawal(self, amount):\n",
    "        if amount <= self.balance:\n",
    "            self.balance -= amount\n",
    "            pass\n",
    "    \n",
    "    def deposit(self, amount):\n",
    "        self.balance += amount\n",
    "        pass\n",
    "    \n",
    "    def getBalance(self):\n",
    "        return self.balance\n",
    "        pass\n",
    "\n",
    "class SavingsAccount(Account):\n",
    "    def __init__(self, title=None, balance=0, interestRate=0):\n",
    "        super().__init__(title, balance)\n",
    "        self.interestRate = interestRate\n",
    "    \n",
    "    def interestAmount(self):\n",
    "        return self.balance * self.interestRate / 100\n",
    "    pass\n",
    "\n",
    "# Testing\n",
    "demo1 = SavingsAccount(\"Ashish\", 2000, 5)\n",
    "\n",
    "# Perform operations\n",
    "demo1.deposit(500)\n",
    "print(\"Balance after deposit:\", demo1.getBalance())  # Output: Balance after deposit: 2500\n",
    "\n",
    "demo1.withdrawal(500)\n",
    "print(\"Balance after withdrawal:\", demo1.getBalance())  # Output: Balance after withdrawal: 2000\n",
    "\n",
    "interest_amount = demo1.interestAmount()\n",
    "print(\"Interest Amount:\", interest_amount)  # Output: Interest Amount: 100\n"
   ]
  },
  {
   "cell_type": "code",
   "execution_count": null,
   "id": "6f73d2c5",
   "metadata": {},
   "outputs": [],
   "source": []
  }
 ],
 "metadata": {
  "kernelspec": {
   "display_name": "Python 3 (ipykernel)",
   "language": "python",
   "name": "python3"
  },
  "language_info": {
   "codemirror_mode": {
    "name": "ipython",
    "version": 3
   },
   "file_extension": ".py",
   "mimetype": "text/x-python",
   "name": "python",
   "nbconvert_exporter": "python",
   "pygments_lexer": "ipython3",
   "version": "3.11.3"
  }
 },
 "nbformat": 4,
 "nbformat_minor": 5
}
